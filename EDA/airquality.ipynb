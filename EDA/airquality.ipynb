{
 "cells": [
  {
   "cell_type": "code",
   "execution_count": 4,
   "metadata": {},
   "outputs": [],
   "source": [
    "import LoadFromAPI\n",
    "import os\n",
    "import pandas as pd\n",
    "import numpy as np\n"
   ]
  },
  {
   "cell_type": "code",
   "execution_count": null,
   "metadata": {},
   "outputs": [],
   "source": [
    "import LoadFromAPI\n",
    "import os\n",
    "import pandas as pd\n",
    "import numpy as np\n",
    "url = f\"https://api.erg.ic.ac.uk/AirQuality/Data/SiteSpecies/SiteCode=CE2/SpeciesCode=PM25/StartDate=2021-01-01/EndDate=2023-01-01/csv\"\n",
    "filename = f\"Data/NO2/CE2_8.csv\"\n",
    "\n",
    "LoadFromAPI.load_data_from_api(url=url,data_format=\"csv\", filename=filename)"
   ]
  },
  {
   "cell_type": "code",
   "execution_count": 13,
   "metadata": {},
   "outputs": [
    {
     "name": "stdout",
     "output_type": "stream",
     "text": [
      "Data saved to Data/NO2/CE2_8.csv.\n"
     ]
    }
   ],
   "source": [
    "url = f\"https://api.erg.ic.ac.uk/AirQuality/Data/SiteSpecies/SiteCode=CE2/SpeciesCode=PM25/StartDate=2021-01-01/EndDate=2023-01-01/csv\"\n",
    "filename = f\"Data/NO2/CE2_8.csv\"\n",
    "\n",
    "LoadFromAPI.load_data_from_api(url=url,data_format=\"csv\", filename=filename)"
   ]
  },
  {
   "cell_type": "code",
   "execution_count": 7,
   "metadata": {},
   "outputs": [
    {
     "ename": "PermissionError",
     "evalue": "[Errno 13] Permission denied: 'Data/NO2/CE2.csv'",
     "output_type": "error",
     "traceback": [
      "\u001b[1;31m---------------------------------------------------------------------------\u001b[0m",
      "\u001b[1;31mPermissionError\u001b[0m                           Traceback (most recent call last)",
      "Cell \u001b[1;32mIn[7], line 4\u001b[0m\n\u001b[0;32m      1\u001b[0m url \u001b[38;5;241m=\u001b[39m \u001b[38;5;124mf\u001b[39m\u001b[38;5;124m\"\u001b[39m\u001b[38;5;124mhttps://api.erg.ic.ac.uk/AirQuality/Data/SiteSpecies/SiteCode=CE2/SpeciesCode=NO2/StartDate=17 Mar 2017/EndDate=17 May 2019/csv\u001b[39m\u001b[38;5;124m\"\u001b[39m\n\u001b[0;32m      2\u001b[0m filename \u001b[38;5;241m=\u001b[39m \u001b[38;5;124mf\u001b[39m\u001b[38;5;124m\"\u001b[39m\u001b[38;5;124mData/NO2/CE2.csv\u001b[39m\u001b[38;5;124m\"\u001b[39m\n\u001b[1;32m----> 4\u001b[0m \u001b[43mLoadFromAPI\u001b[49m\u001b[38;5;241;43m.\u001b[39;49m\u001b[43mload_data_from_api\u001b[49m\u001b[43m(\u001b[49m\u001b[43murl\u001b[49m\u001b[38;5;241;43m=\u001b[39;49m\u001b[43murl\u001b[49m\u001b[43m,\u001b[49m\u001b[43mdata_format\u001b[49m\u001b[38;5;241;43m=\u001b[39;49m\u001b[38;5;124;43m\"\u001b[39;49m\u001b[38;5;124;43mcsv\u001b[39;49m\u001b[38;5;124;43m\"\u001b[39;49m\u001b[43m,\u001b[49m\u001b[43m \u001b[49m\u001b[43mfilename\u001b[49m\u001b[38;5;241;43m=\u001b[39;49m\u001b[43mfilename\u001b[49m\u001b[43m)\u001b[49m\n",
      "File \u001b[1;32md:\\CASApre\\CUSP2024\\EDA\\LoadFromAPI.py:48\u001b[0m, in \u001b[0;36mload_data_from_api\u001b[1;34m(url, data_format, filename)\u001b[0m\n\u001b[0;32m     46\u001b[0m lines \u001b[38;5;241m=\u001b[39m data\u001b[38;5;241m.\u001b[39msplitlines()\n\u001b[0;32m     47\u001b[0m reader \u001b[38;5;241m=\u001b[39m csv\u001b[38;5;241m.\u001b[39mDictReader(lines)\n\u001b[1;32m---> 48\u001b[0m \u001b[38;5;28;01mwith\u001b[39;00m \u001b[38;5;28mopen\u001b[39m(filename, \u001b[38;5;124m'\u001b[39m\u001b[38;5;124mw\u001b[39m\u001b[38;5;124m'\u001b[39m, newline\u001b[38;5;241m=\u001b[39m\u001b[38;5;124m'\u001b[39m\u001b[38;5;124m'\u001b[39m, encoding\u001b[38;5;241m=\u001b[39m\u001b[38;5;124m'\u001b[39m\u001b[38;5;124mutf-8\u001b[39m\u001b[38;5;124m'\u001b[39m) \u001b[38;5;28;01mas\u001b[39;00m file:\n\u001b[0;32m     49\u001b[0m     writer \u001b[38;5;241m=\u001b[39m csv\u001b[38;5;241m.\u001b[39mDictWriter(file, fieldnames\u001b[38;5;241m=\u001b[39mreader\u001b[38;5;241m.\u001b[39mfieldnames)\n\u001b[0;32m     50\u001b[0m     writer\u001b[38;5;241m.\u001b[39mwriteheader()\n",
      "\u001b[1;31mPermissionError\u001b[0m: [Errno 13] Permission denied: 'Data/NO2/CE2.csv'"
     ]
    }
   ],
   "source": [
    "url = f\"https://api.erg.ic.ac.uk/AirQuality/Data/SiteSpecies/SiteCode=CE2/SpeciesCode=NO2/StartDate=17 Mar 2017/EndDate=17 May 2019/csv\"\n",
    "filename = f\"Data/NO2/CE2.csv\"\n",
    "\n",
    "LoadFromAPI.load_data_from_api(url=url,data_format=\"csv\", filename=filename)"
   ]
  },
  {
   "cell_type": "code",
   "execution_count": 3,
   "metadata": {},
   "outputs": [
    {
     "ename": "NameError",
     "evalue": "name 'Site_Codes_NO2' is not defined",
     "output_type": "error",
     "traceback": [
      "\u001b[1;31m---------------------------------------------------------------------------\u001b[0m",
      "\u001b[1;31mNameError\u001b[0m                                 Traceback (most recent call last)",
      "Cell \u001b[1;32mIn[3], line 1\u001b[0m\n\u001b[1;32m----> 1\u001b[0m \u001b[38;5;28;01mfor\u001b[39;00m site_code \u001b[38;5;129;01min\u001b[39;00m \u001b[43mSite_Codes_NO2\u001b[49m:\n\u001b[0;32m      2\u001b[0m     url \u001b[38;5;241m=\u001b[39m \u001b[38;5;124mf\u001b[39m\u001b[38;5;124m\"\u001b[39m\u001b[38;5;124mhttps://api.erg.ic.ac.uk/AirQuality/Data/SiteSpecies/SiteCode=\u001b[39m\u001b[38;5;132;01m{\u001b[39;00msite_code\u001b[38;5;132;01m}\u001b[39;00m\u001b[38;5;124m/SpeciesCode=NO2/StartDate=17 Dec 2017/EndDate=17 Mar 2018/csv\u001b[39m\u001b[38;5;124m\"\u001b[39m\n\u001b[0;32m      3\u001b[0m     filename \u001b[38;5;241m=\u001b[39m \u001b[38;5;124mf\u001b[39m\u001b[38;5;124m\"\u001b[39m\u001b[38;5;124mData/AirQuality/NO2/\u001b[39m\u001b[38;5;132;01m{\u001b[39;00msite_code\u001b[38;5;132;01m}\u001b[39;00m\u001b[38;5;124m.csv\u001b[39m\u001b[38;5;124m\"\u001b[39m\n",
      "\u001b[1;31mNameError\u001b[0m: name 'Site_Codes_NO2' is not defined"
     ]
    }
   ],
   "source": [
    "for site_code in Site_Codes_NO2:\n",
    "    url = f\"https://api.erg.ic.ac.uk/AirQuality/Data/SiteSpecies/SiteCode={site_code}/SpeciesCode=NO2/StartDate=17 Dec 2017/EndDate=17 Mar 2018/csv\"\n",
    "    filename = f\"Data/AirQuality/NO2/{site_code}.csv\"\n",
    "    LoadFromAPI.load_data_from_api(url=url,data_format=\"csv\", filename=filename)"
   ]
  }
 ],
 "metadata": {
  "kernelspec": {
   "display_name": "base",
   "language": "python",
   "name": "python3"
  },
  "language_info": {
   "codemirror_mode": {
    "name": "ipython",
    "version": 3
   },
   "file_extension": ".py",
   "mimetype": "text/x-python",
   "name": "python",
   "nbconvert_exporter": "python",
   "pygments_lexer": "ipython3",
   "version": "3.11.5"
  }
 },
 "nbformat": 4,
 "nbformat_minor": 2
}
